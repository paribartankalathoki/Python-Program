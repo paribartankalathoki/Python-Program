{
 "cells": [
  {
   "cell_type": "code",
   "execution_count": 1,
   "metadata": {},
   "outputs": [
    {
     "name": "stdout",
     "output_type": "stream",
     "text": [
      "Enter name: paribartan\n"
     ]
    }
   ],
   "source": [
    "a = input(\"Enter name: \")"
   ]
  },
  {
   "cell_type": "code",
   "execution_count": 2,
   "metadata": {},
   "outputs": [
    {
     "data": {
      "text/plain": [
       "str"
      ]
     },
     "execution_count": 2,
     "metadata": {},
     "output_type": "execute_result"
    }
   ],
   "source": [
    "type(a)"
   ]
  },
  {
   "cell_type": "code",
   "execution_count": 3,
   "metadata": {},
   "outputs": [
    {
     "data": {
      "text/plain": [
       "'paribartan'"
      ]
     },
     "execution_count": 3,
     "metadata": {},
     "output_type": "execute_result"
    }
   ],
   "source": [
    "a"
   ]
  },
  {
   "cell_type": "code",
   "execution_count": 4,
   "metadata": {},
   "outputs": [
    {
     "name": "stdout",
     "output_type": "stream",
     "text": [
      "Enter age: 19\n"
     ]
    }
   ],
   "source": [
    "a = int(input(\"Enter age: \"))"
   ]
  },
  {
   "cell_type": "code",
   "execution_count": 5,
   "metadata": {},
   "outputs": [
    {
     "data": {
      "text/plain": [
       "int"
      ]
     },
     "execution_count": 5,
     "metadata": {},
     "output_type": "execute_result"
    }
   ],
   "source": [
    "type(a)"
   ]
  },
  {
   "cell_type": "code",
   "execution_count": 6,
   "metadata": {},
   "outputs": [
    {
     "data": {
      "text/plain": [
       "19"
      ]
     },
     "execution_count": 6,
     "metadata": {},
     "output_type": "execute_result"
    }
   ],
   "source": [
    "a"
   ]
  },
  {
   "cell_type": "code",
   "execution_count": 7,
   "metadata": {},
   "outputs": [
    {
     "name": "stdout",
     "output_type": "stream",
     "text": [
      "Enter any name: 23\n",
      "given number is odd.\n"
     ]
    }
   ],
   "source": [
    "a = int(input(\"Enter any name: \"))\n",
    "if a%2==0:\n",
    "    print(\"given number is even.\")\n",
    "else:\n",
    "    print(\"given number is odd.\")"
   ]
  },
  {
   "cell_type": "markdown",
   "metadata": {},
   "source": [
    "# WAP to input number and chek number will divisible by 7 and 5 or not"
   ]
  },
  {
   "cell_type": "code",
   "execution_count": 13,
   "metadata": {},
   "outputs": [
    {
     "name": "stdout",
     "output_type": "stream",
     "text": [
      "Enter any number to check divisible by 7 and 5 or not: 25\n"
     ]
    }
   ],
   "source": [
    "a = int(input(\"Enter any number to check divisible by 7 and 5 or not: \"))"
   ]
  },
  {
   "cell_type": "code",
   "execution_count": 14,
   "metadata": {},
   "outputs": [
    {
     "name": "stdout",
     "output_type": "stream",
     "text": [
      "Number is divisible by 7 or 5.\n"
     ]
    }
   ],
   "source": [
    "if a%7==0 or a%5==0:\n",
    "    print(\"Number is divisible by 7 or 5.\")\n",
    "else:\n",
    "    print(\"Number is not divisible by 7 or 5.\")"
   ]
  },
  {
   "cell_type": "markdown",
   "metadata": {},
   "source": [
    "## WAP to input any word and check the word is palindrom or not"
   ]
  },
  {
   "cell_type": "code",
   "execution_count": 20,
   "metadata": {},
   "outputs": [
    {
     "name": "stdout",
     "output_type": "stream",
     "text": [
      "Enter any  word to check palindrom : mummy\n",
      "not palindrom\n"
     ]
    }
   ],
   "source": [
    "p = input(\"Enter any  word to check palindrom : \")\n",
    "\n",
    "if p[::-1] == p:\n",
    "    print(\"palindrom\")\n",
    "else:\n",
    "    print(\"not palindrom\")"
   ]
  },
  {
   "cell_type": "code",
   "execution_count": 21,
   "metadata": {},
   "outputs": [],
   "source": [
    "saarc = [\"nepal\", \"india\", \"pakistan\", \"afganisthan\", \"bhutan\", \"maldives\", \"shrilanka\", \"bangaladesh\"]"
   ]
  },
  {
   "cell_type": "markdown",
   "metadata": {},
   "source": [
    "## WAP to input country of the user and check user is from saarc or not"
   ]
  },
  {
   "cell_type": "code",
   "execution_count": 23,
   "metadata": {},
   "outputs": [
    {
     "name": "stdout",
     "output_type": "stream",
     "text": [
      "Enter your country: nepal\n",
      "your are from saarc.\n"
     ]
    }
   ],
   "source": [
    "saarc = [\"nepal\", \"india\", \"pakistan\", \"afganisthan\", \"bhutan\", \"maldives\", \"shrilanka\", \"bangaladesh\"]\n",
    "\n",
    "a = input(\"Enter your country: \")\n",
    "\n",
    "if a in saarc:\n",
    "    print(\"your are from saarc.\")\n",
    "else:\n",
    "    print(\"You are not from saarc.\")"
   ]
  },
  {
   "cell_type": "code",
   "execution_count": 1,
   "metadata": {},
   "outputs": [
    {
     "name": "stdout",
     "output_type": "stream",
     "text": [
      "Enter your age: 19\n",
      "You are old.\n"
     ]
    }
   ],
   "source": [
    "age = int(input(\"Enter your age: \"))\n",
    "\n",
    "if age>1 and age<12:\n",
    "    print(\"you  are child.\")\n",
    "elif age>12 and age<19:\n",
    "    print(\"You are young.\")\n",
    "elif age>19 and age<60:\n",
    "    print(\"You are matured.\")\n",
    "else:\n",
    "    print(\"You are old.\")"
   ]
  },
  {
   "cell_type": "code",
   "execution_count": null,
   "metadata": {},
   "outputs": [],
   "source": []
  }
 ],
 "metadata": {
  "kernelspec": {
   "display_name": "Python 3",
   "language": "python",
   "name": "python3"
  },
  "language_info": {
   "codemirror_mode": {
    "name": "ipython",
    "version": 3
   },
   "file_extension": ".py",
   "mimetype": "text/x-python",
   "name": "python",
   "nbconvert_exporter": "python",
   "pygments_lexer": "ipython3",
   "version": "3.7.3"
  }
 },
 "nbformat": 4,
 "nbformat_minor": 2
}
